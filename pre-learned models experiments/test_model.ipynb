{
  "nbformat": 4,
  "nbformat_minor": 0,
  "metadata": {
    "colab": {
      "name": "test_model.ipynb",
      "provenance": [],
      "authorship_tag": "ABX9TyM3dUk7AMSqdK9XGypZcTi+",
      "include_colab_link": true
    },
    "kernelspec": {
      "name": "python3",
      "display_name": "Python 3"
    },
    "language_info": {
      "name": "python"
    },
    "accelerator": "GPU"
  },
  "cells": [
    {
      "cell_type": "markdown",
      "metadata": {
        "id": "view-in-github",
        "colab_type": "text"
      },
      "source": [
        "<a href=\"https://colab.research.google.com/github/alperengulunay/Music-Genre-Classification/blob/main/pre-learned%20models%20experiments/test_model.ipynb\" target=\"_parent\"><img src=\"https://colab.research.google.com/assets/colab-badge.svg\" alt=\"Open In Colab\"/></a>"
      ]
    },
    {
      "cell_type": "code",
      "source": [
        "!nvidia-smi"
      ],
      "metadata": {
        "id": "H_6BwJp3HjD9"
      },
      "execution_count": null,
      "outputs": []
    },
    {
      "cell_type": "code",
      "execution_count": null,
      "metadata": {
        "id": "ojaAJWcDXEw1",
        "colab": {
          "base_uri": "https://localhost:8080/"
        },
        "outputId": "70d7a4df-7e0f-46c4-b5e6-ba060faa1d40"
      },
      "outputs": [
        {
          "output_type": "stream",
          "name": "stdout",
          "text": [
            "Mounted at /content/drive/\n"
          ]
        }
      ],
      "source": [
        "import tensorflow\n",
        "from google.colab import drive\n",
        "drive.mount('/content/drive/')"
      ]
    },
    {
      "cell_type": "code",
      "execution_count": null,
      "metadata": {
        "id": "LoDD7X3055b2"
      },
      "outputs": [],
      "source": [
        "import tensorflow\n",
        "import numpy as np"
      ]
    },
    {
      "cell_type": "code",
      "execution_count": null,
      "metadata": {
        "id": "W6cWlUdnYx5M"
      },
      "outputs": [],
      "source": [
        "train_dir = r'/content/drive/My Drive/Tüm Veriler/6000 mel_spec 44100 changed pop/train'\n",
        "validation_dir = r'/content/drive/My Drive/Tüm Veriler/6000 mel_spec 44100 changed pop/validation'\n",
        "test_dir = r'/content/drive/My Drive/Tüm Veriler/6000 mel_spec 44100 changed pop/test'"
      ]
    },
    {
      "cell_type": "code",
      "source": [
        "test_datagen = tensorflow.keras.preprocessing.image.ImageDataGenerator(\n",
        "        rescale=1./255\n",
        "        )\n",
        "test_generator = test_datagen.flow_from_directory(\n",
        "        test_dir,\n",
        "        target_size=(299, 299),\n",
        "        batch_size=10,\n",
        "        class_mode='categorical',\n",
        "        shuffle=False\n",
        "        )\n",
        "\n",
        "test_y=test_generator.classes"
      ],
      "metadata": {
        "colab": {
          "base_uri": "https://localhost:8080/"
        },
        "id": "w_l7Hmh5ffsc",
        "outputId": "cde2d4d2-febb-4483-d8ab-741ac93994f2"
      },
      "execution_count": null,
      "outputs": [
        {
          "output_type": "stream",
          "name": "stdout",
          "text": [
            "Found 500 images belonging to 10 classes.\n"
          ]
        }
      ]
    },
    {
      "cell_type": "code",
      "source": [
        "model_path = r'/content/drive/MyDrive/Tüm Veriler/inception_resnet_v2_8420_8820.h5'\n",
        "model = tensorflow.keras.models.load_model(model_path)"
      ],
      "metadata": {
        "id": "EfRjJRnnKK5R"
      },
      "execution_count": null,
      "outputs": []
    },
    {
      "cell_type": "code",
      "source": [
        "Ypred = model.predict(test_generator)\n",
        "Ypred = np.argmax(Ypred, axis=1)"
      ],
      "metadata": {
        "id": "6B9GoO9ILaib"
      },
      "execution_count": null,
      "outputs": []
    },
    {
      "cell_type": "code",
      "source": [
        "test_loss, test_acc = model.evaluate(test_generator)"
      ],
      "metadata": {
        "colab": {
          "base_uri": "https://localhost:8080/"
        },
        "id": "MSWWfRsSMjTX",
        "outputId": "4f870668-c263-4a0e-93a6-67052a1252f7"
      },
      "execution_count": null,
      "outputs": [
        {
          "output_type": "stream",
          "name": "stdout",
          "text": [
            "50/50 [==============================] - 9s 123ms/step - loss: 0.6348 - acc: 0.8820\n"
          ]
        }
      ]
    },
    {
      "cell_type": "code",
      "source": [
        "import matplotlib.pyplot as plt\n",
        "from sklearn.metrics import classification_report, confusion_matrix\n",
        "import itertools\n",
        "\n",
        "def plot_confusion_matrix(cm, classes,title='Confusion Matrix', cmap=plt.cm.Blues):\n",
        "    \n",
        "    plt.figure(figsize=(6,6))\n",
        "    plt.imshow(cm, interpolation='nearest', cmap=cmap)\n",
        "    plt.title(title)\n",
        "    plt.colorbar()\n",
        "    tick_marks = np.arange(len(classes))\n",
        "    plt.xticks(tick_marks, classes, rotation=45)\n",
        "    plt.yticks(tick_marks, classes)\n",
        "    \n",
        "    thresh = cm.max()/2\n",
        "    for i,j in itertools.product(range(cm.shape[0]), range(cm.shape[1])):\n",
        "        plt.text(j, i, cm[i,j]/50,\n",
        "                horizontalalignment='center',\n",
        "                color='white' if cm[i, j] > thresh else \"black\")\n",
        "        \n",
        "    plt.tight_layout()\n",
        "    plt.ylabel('True Label')\n",
        "    plt.xlabel('Predicted Label')\n",
        "    \n",
        "plot_confusion_matrix(confusion_matrix(test_y,Ypred), classes=['Halk','Klasik','Pop','Rap','Rock','Arabesk','Caz','Elektronik','Punk','Tasavvuf'])"
      ],
      "metadata": {
        "id": "-xZn8jNpM3Op",
        "colab": {
          "base_uri": "https://localhost:8080/",
          "height": 433
        },
        "outputId": "7dd31bae-f8f6-4afa-c1bc-1ea92f92229c"
      },
      "execution_count": null,
      "outputs": [
        {
          "output_type": "display_data",
          "data": {
            "text/plain": [
              "<Figure size 432x432 with 2 Axes>"
            ],
            "image/png": "[encoded data removed]"
          },
          "metadata": {
            "needs_background": "light"
          }
        }
      ]
    },
    {
      "cell_type": "code",
      "source": [
        "print(test_generator.class_indices)\n",
        "print(classification_report(test_y,Ypred))"
      ],
      "metadata": {
        "id": "s6nPl1_JNh7G",
        "colab": {
          "base_uri": "https://localhost:8080/"
        },
        "outputId": "517d21d5-6e34-4b00-d096-c37eb25a9881"
      },
      "execution_count": null,
      "outputs": [
        {
          "output_type": "stream",
          "name": "stdout",
          "text": [
            "{'Halk': 0, 'Klasik': 1, 'Pop': 2, 'Rap': 3, 'Rock': 4, 'arabesk': 5, 'caz': 6, 'elektronik': 7, 'punk': 8, 'tasavvuf': 9}\n",
            "              precision    recall  f1-score   support\n",
            "\n",
            "           0       0.80      0.94      0.86        50\n",
            "           1       0.96      0.86      0.91        50\n",
            "           2       0.95      0.74      0.83        50\n",
            "           3       0.91      1.00      0.95        50\n",
            "           4       0.77      0.82      0.80        50\n",
            "           5       0.79      0.90      0.84        50\n",
            "           6       0.88      0.86      0.87        50\n",
            "           7       0.94      0.88      0.91        50\n",
            "           8       0.94      0.96      0.95        50\n",
            "           9       0.96      0.86      0.91        50\n",
            "\n",
            "    accuracy                           0.88       500\n",
            "   macro avg       0.89      0.88      0.88       500\n",
            "weighted avg       0.89      0.88      0.88       500\n",
            "\n"
          ]
        }
      ]
    }
  ]
}